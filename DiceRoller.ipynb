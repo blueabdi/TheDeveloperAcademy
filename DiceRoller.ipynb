{
 "cells": [
  {
   "cell_type": "code",
   "execution_count": null,
   "metadata": {},
   "outputs": [],
   "source": [
    "import random\n",
    "\n",
    "# Sets the minimum side of the dice to 1\n",
    "min_dice = 1\n",
    "\n",
    "# Option for playing\n",
    "while True:\n",
    "    first_ask = input(\"Welcome ! Would you like to roll the dice ? (yes/no)\").lower()\n",
    "    \n",
    "    # Check user's response\n",
    "    if first_ask == \"no\":\n",
    "        print(\"See ya !\")\n",
    "        break\n",
    "    elif first_ask != \"yes\":\n",
    "        print(\"Please enter 'yes' or 'no' ! \")\n",
    "        continue\n",
    "\n",
    "    # Ask for the number of sides on the dice\n",
    "    while True:\n",
    "        min_dice = 1\n",
    "        max_dice_int = input(\"All right ! How many sides do you want the dice to be ?\")\n",
    "        if not max_dice_int.isdigit():\n",
    "            print(\"Please enter an integer for the number of sides.\")\n",
    "            continue\n",
    "        \n",
    "        # Convert the input to an integer\n",
    "        max_dice = int(max_dice_int)\n",
    "        break\n",
    "   \n",
    "    #Generate a random roll within the specified range\n",
    "    random_roll = random.randint( min_dice , max_dice)\n",
    "    print(\"Great ! Lets roll the dice ...  \" + str(random_roll) + \" !\" )\n",
    "\n",
    "   # Ask if the player wants to roll again\n",
    "    while True:\n",
    "        random_roll = random.randint( min_dice , max_dice)\n",
    "        question_roll = input(\"Would you like to roll again (yes or no) ?\").lower()\n",
    "\n",
    "        # Check the user's response\n",
    "        if question_roll == \"no\":\n",
    "            print(\"too bad ! thank you for playing!\")\n",
    "            break\n",
    "        elif question_roll == \"yes\":\n",
    "            print(\"Great ! Lets roll the dice again ...  \" + str(random_roll) + \" !\" )\n",
    "            continue\n",
    "        else:\n",
    "            print(\"Please enter yes/no\")\n",
    "\n",
    "    # Exit the outer loop\n",
    "    break"
   ]
  }
 ],
 "metadata": {
  "kernelspec": {
   "display_name": "Python 3",
   "language": "python",
   "name": "python3"
  },
  "language_info": {
   "codemirror_mode": {
    "name": "ipython",
    "version": 3
   },
   "file_extension": ".py",
   "mimetype": "text/x-python",
   "name": "python",
   "nbconvert_exporter": "python",
   "pygments_lexer": "ipython3",
   "version": "3.12.0"
  }
 },
 "nbformat": 4,
 "nbformat_minor": 2
}
