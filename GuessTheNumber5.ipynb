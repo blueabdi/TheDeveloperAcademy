{
 "cells": [
  {
   "cell_type": "code",
   "execution_count": 7,
   "metadata": {},
   "outputs": [
    {
     "name": "stdout",
     "output_type": "stream",
     "text": [
      "The maximum number for guessing is 3\n",
      "You've guessed the right number!\n"
     ]
    }
   ],
   "source": [
    "#guess the number\n",
    "import random\n",
    "def check_guess(guess, target):\n",
    "    if guess < target:\n",
    "        return \"The number is too low\"\n",
    "    elif guess > target:\n",
    "        return \"The number is too high\"\n",
    "    else: \n",
    "        return \"You've guessed the right number!\"\n",
    "    \n",
    "def is_number(input_str):\n",
    "    return input_str.isdigit()\n",
    "\n",
    "while True:\n",
    "    x = input(\"Choose the maximum number for guessing:\")\n",
    "    if is_number(x):\n",
    "        x = int(x)\n",
    "        print(f\"The maximum number for guessing is {x}\")\n",
    "        break\n",
    "    else:\n",
    "        print(\"Please enter a valid number\")\n",
    "random_number = random.randint(1,x)   \n",
    "\n",
    "while True:\n",
    "    user_guess = input(\"Guess a number:\")\n",
    "    if is_number(user_guess):\n",
    "       guess = int(user_guess) \n",
    "       result = check_guess(guess, random_number) \n",
    "       print(result)\n",
    "       if result == \"You've guessed the right number!\":\n",
    "           break \n",
    "    else: \n",
    "        print(\"Please enter a valid number\")\n"
   ]
  },
  {
   "cell_type": "code",
   "execution_count": null,
   "metadata": {},
   "outputs": [],
   "source": []
  }
 ],
 "metadata": {
  "kernelspec": {
   "display_name": "Python 3",
   "language": "python",
   "name": "python3"
  },
  "language_info": {
   "codemirror_mode": {
    "name": "ipython",
    "version": 3
   },
   "file_extension": ".py",
   "mimetype": "text/x-python",
   "name": "python",
   "nbconvert_exporter": "python",
   "pygments_lexer": "ipython3",
   "version": "3.12.0"
  }
 },
 "nbformat": 4,
 "nbformat_minor": 2
}
