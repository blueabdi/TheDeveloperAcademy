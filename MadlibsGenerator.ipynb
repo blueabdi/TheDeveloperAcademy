{
 "cells": [
  {
   "cell_type": "code",
   "execution_count": 1,
   "metadata": {},
   "outputs": [
    {
     "name": "stdout",
     "output_type": "stream",
     "text": [
      "Exiting the Mad Libs program.\n",
      "Your Personalized Story: Once upon a time, in a [adj1] [adj2] land, there lived a [adj3] [noun1]. This [noun1] loved to [verb1] and [verb2] all day long. One day, they discovered a magical [adj4] [noun2] and decided to [verb3] it. The end.\n"
     ]
    }
   ],
   "source": [
    "story_temp = \"Once upon a time, in a [adj1] [adj2] land, there lived a [adj3] [noun1]. This [noun1] loved to [verb1] and [verb2] all day long. One day, they discovered a magical [adj4] [noun2] and decided to [verb3] it. The end.\"\n",
    "\n",
    "# List of words\n",
    "word_types = ['adj1', 'adj2', 'adj3', 'noun1', 'verb1', 'verb2', 'adj4', 'noun2', 'verb3']\n",
    "\n",
    "# Initialize Dictionary\n",
    "u_input = {}\n",
    "\n",
    "# Prompt user to enter words\n",
    "for word in word_types:\n",
    "    user_input = input(f'Enter a {word} (type \"quit\" to exit): ')\n",
    "    \n",
    "    if user_input.lower() == 'quit':\n",
    "        print(\"Exiting the Mad Libs program.\")\n",
    "        break\n",
    "    \n",
    "    u_input[word] = user_input\n",
    "\n",
    "madlibs_sto = story_temp\n",
    "\n",
    "for word in u_input:\n",
    "    madlibs_sto = madlibs_sto.replace(f'[{word}]', u_input[word])\n",
    "\n",
    "if 'quit' not in u_input.values():\n",
    "    print(f'Your Personalized Story: {madlibs_sto}')\n",
    " "
   ]
  },
  {
   "cell_type": "code",
   "execution_count": null,
   "metadata": {},
   "outputs": [],
   "source": []
  }
 ],
 "metadata": {
  "kernelspec": {
   "display_name": "Python 3",
   "language": "python",
   "name": "python3"
  },
  "language_info": {
   "codemirror_mode": {
    "name": "ipython",
    "version": 3
   },
   "file_extension": ".py",
   "mimetype": "text/x-python",
   "name": "python",
   "nbconvert_exporter": "python",
   "pygments_lexer": "ipython3",
   "version": "3.12.0"
  }
 },
 "nbformat": 4,
 "nbformat_minor": 2
}
