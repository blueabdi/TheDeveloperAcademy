{
 "cells": [
  {
   "cell_type": "code",
   "execution_count": null,
   "metadata": {},
   "outputs": [],
   "source": [
    "import random\n",
    "# min_dice = input(\"choose the min for your dice\")\n",
    "min_dice = 1\n",
    "# max_dice = input(\"choose the max for your dice\")\n",
    "#\n",
    "while True:\n",
    "    first_ask = input(\"Welcome ! Would you like to roll the dice ? (yes/no)\").lower()\n",
    "    if first_ask == \"no\":\n",
    "        print(\"See ya !\")\n",
    "        break\n",
    "    elif first_ask != \"yes\":\n",
    "        print(\"Please enter 'yes' or 'no' ! \")\n",
    "        continue\n",
    "    while True:\n",
    "        min_dice = 1\n",
    "        max_dice_int = input(\"All right ! How many sides do you want the dice to be ?\")\n",
    "        if not max_dice_int.isdigit():\n",
    "            print(\"Please enter an integer for the number of sides.\")\n",
    "            continue\n",
    "        max_dice = int(max_dice_int)\n",
    "        break\n",
    "    random_roll = random.randint( min_dice , max_dice)\n",
    "    print(\"Great ! Lets roll the dice ...  \" + str(random_roll) + \" !\" )\n",
    "    while True:\n",
    "        random_roll = random.randint( min_dice , max_dice)\n",
    "        question_roll = input(\"Would you like to roll again (yes or no) ?\").lower()\n",
    "        if question_roll == \"no\":\n",
    "            print(\"too bad ! thank you for playing!\")\n",
    "            break\n",
    "        elif question_roll == \"yes\":\n",
    "            print(\"Great ! Lets roll the dice again ...  \" + str(random_roll) + \" !\" )\n",
    "            continue\n",
    "        else:\n",
    "            print(\"Please enter yes/no\")\n",
    "    break"
   ]
  }
 ],
 "metadata": {
  "language_info": {
   "name": "python"
  }
 },
 "nbformat": 4,
 "nbformat_minor": 2
}
