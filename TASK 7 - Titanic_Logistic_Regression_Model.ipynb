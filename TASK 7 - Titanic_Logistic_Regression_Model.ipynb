{
 "cells": [
  {
   "cell_type": "code",
   "execution_count": 1,
   "metadata": {},
   "outputs": [
    {
     "name": "stderr",
     "output_type": "stream",
     "text": [
      "C:\\Users\\abdif\\AppData\\Local\\Temp\\ipykernel_1804\\2084120294.py:2: DeprecationWarning: \n",
      "Pyarrow will become a required dependency of pandas in the next major release of pandas (pandas 3.0),\n",
      "(to allow more performant data types, such as the Arrow string type, and better interoperability with other libraries)\n",
      "but was not found to be installed on your system.\n",
      "If this would cause problems for you,\n",
      "please provide us feedback at https://github.com/pandas-dev/pandas/issues/54466\n",
      "        \n",
      "  import pandas as pd\n"
     ]
    }
   ],
   "source": [
    "# Importing necessary libraries\n",
    "import pandas as pd\n",
    "from sklearn.impute import SimpleImputer\n",
    "from sklearn.preprocessing import OneHotEncoder\n",
    "from sklearn.linear_model import LogisticRegression\n",
    "import numpy as np\n",
    "from sklearn.preprocessing import StandardScaler\n",
    "\n",
    "# Load the dataset\n",
    "train_data = pd.read_csv(\"train.csv\")\n",
    "test_data = pd.read_csv(\"test.csv\")\n",
    "\n",
    "# Separate features and target variable\n",
    "X_train = train_data.drop(\"Survived\", axis=1)\n",
    "y_train = train_data[\"Survived\"]\n",
    "\n",
    "# Preprocessing for numeric features\n",
    "numeric_features = X_train.select_dtypes(include=['int64', 'float64']).columns\n",
    "numeric_imputer = SimpleImputer(strategy='median')\n",
    "X_train_numeric = pd.DataFrame(numeric_imputer.fit_transform(X_train[numeric_features]), columns=numeric_features)\n",
    "\n",
    "# Preprocessing for categorical features\n",
    "categorical_features = X_train.select_dtypes(include=['object']).columns\n",
    "categorical_imputer = SimpleImputer(strategy='constant', fill_value='missing')\n",
    "X_train_categorical = pd.DataFrame(categorical_imputer.fit_transform(X_train[categorical_features]), columns=categorical_features)\n",
    "\n",
    "# One-hot encode categorical features\n",
    "onehot_encoder = OneHotEncoder(handle_unknown='ignore')\n",
    "X_train_encoded = onehot_encoder.fit_transform(X_train_categorical)\n",
    "\n",
    "# Get feature names for the encoded categorical features\n",
    "encoded_categorical_features = onehot_encoder.get_feature_names_out(categorical_features)\n",
    "\n",
    "# Combine processed numeric and categorical features\n",
    "X_train_processed = pd.concat([X_train_numeric, pd.DataFrame(X_train_encoded.toarray(), columns=encoded_categorical_features)], axis=1)\n",
    "\n",
    "# Train the model with increased max_iter\n",
    "logistic_reg = LogisticRegression(max_iter=3000)  # Increase max_iter to 1000 or any other suitable value\n",
    "\n",
    "logistic_reg.fit(X_train_processed, y_train)\n",
    "\n",
    "# Preprocess numeric features in test data\n",
    "X_test_numeric = pd.DataFrame(numeric_imputer.transform(test_data[numeric_features]), columns=numeric_features)\n",
    "\n",
    "# Preprocess categorical features in test data\n",
    "X_test_categorical = pd.DataFrame(categorical_imputer.transform(test_data[categorical_features]), columns=categorical_features)\n",
    "\n",
    "# One-hot encode categorical features for test data\n",
    "X_test_encoded = onehot_encoder.transform(X_test_categorical)\n",
    "\n",
    "# Combine processed numeric and categorical features in test data\n",
    "X_test_processed = pd.concat([X_test_numeric, pd.DataFrame(X_test_encoded.toarray(), columns=encoded_categorical_features)], axis=1)\n",
    "\n",
    "# Predict the target variable\n",
    "y_pred = logistic_reg.predict(X_test_processed)\n",
    "\n",
    "# Combine PassengerId with predicted values into a DataFrame\n",
    "submission_df = pd.DataFrame({'PassengerId': test_data['PassengerId'], 'Survived': y_pred})\n",
    "\n",
    "# Save the DataFrame to a CSV file\n",
    "submission_df.to_csv('Task_7_prediction.csv', index=False)"
   ]
  },
  {
   "cell_type": "code",
   "execution_count": null,
   "metadata": {},
   "outputs": [],
   "source": []
  }
 ],
 "metadata": {
  "kernelspec": {
   "display_name": "Python 3",
   "language": "python",
   "name": "python3"
  },
  "language_info": {
   "codemirror_mode": {
    "name": "ipython",
    "version": 3
   },
   "file_extension": ".py",
   "mimetype": "text/x-python",
   "name": "python",
   "nbconvert_exporter": "python",
   "pygments_lexer": "ipython3",
   "version": "3.12.0"
  }
 },
 "nbformat": 4,
 "nbformat_minor": 2
}
